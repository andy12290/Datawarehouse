{
 "cells": [
  {
   "cell_type": "markdown",
   "metadata": {},
   "source": [
    "* Name: Aniket Devidas Kale\n",
    "* Class : DSS640\n",
    "* Prof: Erik Zwiefel    "
   ]
  },
  {
   "cell_type": "markdown",
   "metadata": {},
   "source": [
    "# Loaded and python libraries\n",
    "- Loaded the final csv files in dataworld platform and execute the SQL queries on the given tables.\n",
    "- Resulted table embedded with the python code and access the same result tables using the Pandas in dataframe\n",
    "- On top of that we can used the python libraries or visualization to experiement with the data."
   ]
  },
  {
   "cell_type": "code",
   "execution_count": 1,
   "metadata": {
    "collapsed": true
   },
   "outputs": [],
   "source": [
    "# loaded  all lib\n",
    "import matplotlib.pyplot as plt\n",
    "import pandas as pd\n",
    "% matplotlib inline"
   ]
  },
  {
   "cell_type": "code",
   "execution_count": 2,
   "metadata": {
    "collapsed": true
   },
   "outputs": [],
   "source": [
    "# install the dataworld api so we dan directly download the files and tables from the platform\n",
    "import datadotworld as dw"
   ]
  },
  {
   "cell_type": "code",
   "execution_count": 3,
   "metadata": {
    "collapsed": false
   },
   "outputs": [],
   "source": [
    "lds = dw.load_dataset(\"andy12290/new-ipl\")"
   ]
  },
  {
   "cell_type": "code",
   "execution_count": 4,
   "metadata": {
    "collapsed": false
   },
   "outputs": [
    {
     "name": "stdout",
     "output_type": "stream",
     "text": [
      "{'batsman_scored': LazyLoadedValue(<pandas.DataFrame>), 'extra_runs': LazyLoadedValue(<pandas.DataFrame>), 'player': LazyLoadedValue(<pandas.DataFrame>), 'ball_by_ball': LazyLoadedValue(<pandas.DataFrame>), 'venue': LazyLoadedValue(<pandas.DataFrame>), 'season': LazyLoadedValue(<pandas.DataFrame>), 'match': LazyLoadedValue(<pandas.DataFrame>), 'fact_table_matches': LazyLoadedValue(<pandas.DataFrame>), 'city': LazyLoadedValue(<pandas.DataFrame>)} \n",
      "\n",
      "{'batsman_scored': LazyLoadedValue(<list of rows>), 'extra_runs': LazyLoadedValue(<list of rows>), 'player': LazyLoadedValue(<list of rows>), 'ball_by_ball': LazyLoadedValue(<list of rows>), 'venue': LazyLoadedValue(<list of rows>), 'season': LazyLoadedValue(<list of rows>), 'match': LazyLoadedValue(<list of rows>), 'fact_table_matches': LazyLoadedValue(<list of rows>), 'city': LazyLoadedValue(<list of rows>)} \n",
      "\n",
      "{'batsman_scored': LazyLoadedValue(<bytes>), 'original/Match .csv': LazyLoadedValue(<bytes>), 'original/Batsman_Scored.csv': LazyLoadedValue(<bytes>), 'extra_runs': LazyLoadedValue(<bytes>), 'original/Ball_by_Ball .csv': LazyLoadedValue(<bytes>), 'ball_by_ball': LazyLoadedValue(<bytes>), 'venue': LazyLoadedValue(<bytes>), 'city': LazyLoadedValue(<bytes>), 'original/Player.csv': LazyLoadedValue(<bytes>), 'fact_table_matches': LazyLoadedValue(<bytes>), 'match': LazyLoadedValue(<bytes>), 'original/Venue.csv': LazyLoadedValue(<bytes>), 'original/Fact_table_Matches.xlsx': LazyLoadedValue(<bytes>), 'original/Season.csv': LazyLoadedValue(<bytes>), 'player': LazyLoadedValue(<bytes>), 'season': LazyLoadedValue(<bytes>), 'original/Extra_Runs.csv': LazyLoadedValue(<bytes>), 'original/City.csv': LazyLoadedValue(<bytes>)} \n",
      "\n"
     ]
    }
   ],
   "source": [
    "# print the all files.\n",
    "for i in [lds.dataframes, lds.tables, lds.raw_data]:\n",
    "    print(i,'\\n') "
   ]
  },
  {
   "cell_type": "markdown",
   "metadata": {},
   "source": [
    "# Fact Table Matches"
   ]
  },
  {
   "cell_type": "code",
   "execution_count": 5,
   "metadata": {
    "collapsed": false
   },
   "outputs": [],
   "source": [
    "# loaded fact tables\n",
    "import pandas as pd\n",
    "df = pd.read_excel('https://query.data.world/s/dd16appkgjavgzl06ql077ust')"
   ]
  },
  {
   "cell_type": "code",
   "execution_count": 6,
   "metadata": {
    "collapsed": false
   },
   "outputs": [
    {
     "data": {
      "text/html": [
       "<div>\n",
       "<table border=\"1\" class=\"dataframe\">\n",
       "  <thead>\n",
       "    <tr style=\"text-align: right;\">\n",
       "      <th></th>\n",
       "      <th>Team_Id</th>\n",
       "      <th>Match_Id</th>\n",
       "      <th>Over_Id</th>\n",
       "      <th>Ball_Id</th>\n",
       "      <th>Innings_No</th>\n",
       "      <th>Season_Id</th>\n",
       "      <th>Venue_Id</th>\n",
       "      <th>Player_Id</th>\n",
       "      <th>Player_Name</th>\n",
       "      <th>City_id</th>\n",
       "      <th>Win_Margin_Runs</th>\n",
       "      <th>Player_Runs</th>\n",
       "      <th>Innings_number</th>\n",
       "      <th>Team_Runs</th>\n",
       "    </tr>\n",
       "  </thead>\n",
       "  <tbody>\n",
       "    <tr>\n",
       "      <th>0</th>\n",
       "      <td>1</td>\n",
       "      <td>335987</td>\n",
       "      <td>1</td>\n",
       "      <td>1</td>\n",
       "      <td>1</td>\n",
       "      <td>1</td>\n",
       "      <td>1</td>\n",
       "      <td>1</td>\n",
       "      <td>SC Ganguly</td>\n",
       "      <td>15</td>\n",
       "      <td>62</td>\n",
       "      <td>17</td>\n",
       "      <td>1</td>\n",
       "      <td>115</td>\n",
       "    </tr>\n",
       "    <tr>\n",
       "      <th>1</th>\n",
       "      <td>2</td>\n",
       "      <td>335987</td>\n",
       "      <td>1</td>\n",
       "      <td>1</td>\n",
       "      <td>2</td>\n",
       "      <td>1</td>\n",
       "      <td>2</td>\n",
       "      <td>2</td>\n",
       "      <td>BB McCullum</td>\n",
       "      <td>19</td>\n",
       "      <td>99</td>\n",
       "      <td>25</td>\n",
       "      <td>1</td>\n",
       "      <td>170</td>\n",
       "    </tr>\n",
       "    <tr>\n",
       "      <th>2</th>\n",
       "      <td>3</td>\n",
       "      <td>335987</td>\n",
       "      <td>1</td>\n",
       "      <td>2</td>\n",
       "      <td>1</td>\n",
       "      <td>1</td>\n",
       "      <td>3</td>\n",
       "      <td>3</td>\n",
       "      <td>RT Ponting</td>\n",
       "      <td>2</td>\n",
       "      <td>79</td>\n",
       "      <td>63</td>\n",
       "      <td>1</td>\n",
       "      <td>193</td>\n",
       "    </tr>\n",
       "    <tr>\n",
       "      <th>3</th>\n",
       "      <td>4</td>\n",
       "      <td>335987</td>\n",
       "      <td>1</td>\n",
       "      <td>2</td>\n",
       "      <td>2</td>\n",
       "      <td>1</td>\n",
       "      <td>4</td>\n",
       "      <td>4</td>\n",
       "      <td>DJ Hussey</td>\n",
       "      <td>16</td>\n",
       "      <td>27</td>\n",
       "      <td>10</td>\n",
       "      <td>2</td>\n",
       "      <td>115</td>\n",
       "    </tr>\n",
       "    <tr>\n",
       "      <th>4</th>\n",
       "      <td>5</td>\n",
       "      <td>335987</td>\n",
       "      <td>1</td>\n",
       "      <td>3</td>\n",
       "      <td>1</td>\n",
       "      <td>1</td>\n",
       "      <td>5</td>\n",
       "      <td>5</td>\n",
       "      <td>Mohammad Hafeez</td>\n",
       "      <td>22</td>\n",
       "      <td>10</td>\n",
       "      <td>6</td>\n",
       "      <td>2</td>\n",
       "      <td>190</td>\n",
       "    </tr>\n",
       "  </tbody>\n",
       "</table>\n",
       "</div>"
      ],
      "text/plain": [
       "   Team_Id  Match_Id  Over_Id  Ball_Id  Innings_No  Season_Id  Venue_Id  \\\n",
       "0        1    335987        1        1           1          1         1   \n",
       "1        2    335987        1        1           2          1         2   \n",
       "2        3    335987        1        2           1          1         3   \n",
       "3        4    335987        1        2           2          1         4   \n",
       "4        5    335987        1        3           1          1         5   \n",
       "\n",
       "   Player_Id      Player_Name  City_id  Win_Margin_Runs  Player_Runs  \\\n",
       "0          1       SC Ganguly       15               62           17   \n",
       "1          2      BB McCullum       19               99           25   \n",
       "2          3       RT Ponting        2               79           63   \n",
       "3          4        DJ Hussey       16               27           10   \n",
       "4          5  Mohammad Hafeez       22               10            6   \n",
       "\n",
       "   Innings_number  Team_Runs  \n",
       "0               1        115  \n",
       "1               1        170  \n",
       "2               1        193  \n",
       "3               2        115  \n",
       "4               2        190  "
      ]
     },
     "execution_count": 6,
     "metadata": {},
     "output_type": "execute_result"
    }
   ],
   "source": [
    "df.head()"
   ]
  },
  {
   "cell_type": "code",
   "execution_count": 7,
   "metadata": {
    "collapsed": false
   },
   "outputs": [
    {
     "data": {
      "text/plain": [
       "(468, 14)"
      ]
     },
     "execution_count": 7,
     "metadata": {},
     "output_type": "execute_result"
    }
   ],
   "source": [
    "# Number of records\n",
    "# 468 rows \n",
    "# Player Id is the PK\n",
    "df.shape"
   ]
  },
  {
   "cell_type": "markdown",
   "metadata": {},
   "source": [
    "# Uploaded all the CSV files after the Normalization.\n",
    "- Season table: Will see the Season wise data.\n",
    "    "
   ]
  },
  {
   "cell_type": "markdown",
   "metadata": {},
   "source": [
    "- Season_ID = Primary column\n",
    "- Season Year= Year of Season"
   ]
  },
  {
   "cell_type": "code",
   "execution_count": 8,
   "metadata": {
    "collapsed": false
   },
   "outputs": [
    {
     "data": {
      "text/html": [
       "<div>\n",
       "<table border=\"1\" class=\"dataframe\">\n",
       "  <thead>\n",
       "    <tr style=\"text-align: right;\">\n",
       "      <th></th>\n",
       "      <th>Season_Id</th>\n",
       "      <th>Man_of_the_Series</th>\n",
       "      <th>Orange_Cap</th>\n",
       "      <th>Purple_Cap</th>\n",
       "      <th>Season_Year</th>\n",
       "    </tr>\n",
       "  </thead>\n",
       "  <tbody>\n",
       "    <tr>\n",
       "      <th>0</th>\n",
       "      <td>1</td>\n",
       "      <td>32</td>\n",
       "      <td>100</td>\n",
       "      <td>102</td>\n",
       "      <td>2008</td>\n",
       "    </tr>\n",
       "    <tr>\n",
       "      <th>1</th>\n",
       "      <td>2</td>\n",
       "      <td>53</td>\n",
       "      <td>18</td>\n",
       "      <td>61</td>\n",
       "      <td>2009</td>\n",
       "    </tr>\n",
       "    <tr>\n",
       "      <th>2</th>\n",
       "      <td>3</td>\n",
       "      <td>133</td>\n",
       "      <td>133</td>\n",
       "      <td>131</td>\n",
       "      <td>2010</td>\n",
       "    </tr>\n",
       "    <tr>\n",
       "      <th>3</th>\n",
       "      <td>4</td>\n",
       "      <td>162</td>\n",
       "      <td>162</td>\n",
       "      <td>194</td>\n",
       "      <td>2011</td>\n",
       "    </tr>\n",
       "    <tr>\n",
       "      <th>4</th>\n",
       "      <td>5</td>\n",
       "      <td>315</td>\n",
       "      <td>162</td>\n",
       "      <td>190</td>\n",
       "      <td>2012</td>\n",
       "    </tr>\n",
       "    <tr>\n",
       "      <th>5</th>\n",
       "      <td>6</td>\n",
       "      <td>32</td>\n",
       "      <td>19</td>\n",
       "      <td>71</td>\n",
       "      <td>2013</td>\n",
       "    </tr>\n",
       "    <tr>\n",
       "      <th>6</th>\n",
       "      <td>7</td>\n",
       "      <td>305</td>\n",
       "      <td>46</td>\n",
       "      <td>364</td>\n",
       "      <td>2014</td>\n",
       "    </tr>\n",
       "    <tr>\n",
       "      <th>7</th>\n",
       "      <td>8</td>\n",
       "      <td>334</td>\n",
       "      <td>187</td>\n",
       "      <td>71</td>\n",
       "      <td>2015</td>\n",
       "    </tr>\n",
       "    <tr>\n",
       "      <th>8</th>\n",
       "      <td>9</td>\n",
       "      <td>8</td>\n",
       "      <td>8</td>\n",
       "      <td>299</td>\n",
       "      <td>2016</td>\n",
       "    </tr>\n",
       "  </tbody>\n",
       "</table>\n",
       "</div>"
      ],
      "text/plain": [
       "   Season_Id  Man_of_the_Series  Orange_Cap  Purple_Cap  Season_Year\n",
       "0          1                 32         100         102         2008\n",
       "1          2                 53          18          61         2009\n",
       "2          3                133         133         131         2010\n",
       "3          4                162         162         194         2011\n",
       "4          5                315         162         190         2012\n",
       "5          6                 32          19          71         2013\n",
       "6          7                305          46         364         2014\n",
       "7          8                334         187          71         2015\n",
       "8          9                  8           8         299         2016"
      ]
     },
     "execution_count": 8,
     "metadata": {},
     "output_type": "execute_result"
    }
   ],
   "source": [
    "df = pd.read_csv('https://query.data.world/s/e0vizskbgg0tf3nz8i9iqpm3k')\n",
    "df"
   ]
  },
  {
   "cell_type": "code",
   "execution_count": 9,
   "metadata": {
    "collapsed": false
   },
   "outputs": [
    {
     "data": {
      "text/html": [
       "<div>\n",
       "<table border=\"1\" class=\"dataframe\">\n",
       "  <thead>\n",
       "    <tr style=\"text-align: right;\">\n",
       "      <th></th>\n",
       "      <th>ID</th>\n",
       "      <th>Match_Id</th>\n",
       "      <th>Team_1</th>\n",
       "      <th>Team_2</th>\n",
       "      <th>Match_Date</th>\n",
       "      <th>Season_Id</th>\n",
       "      <th>Venue_Id</th>\n",
       "      <th>Toss_Winner</th>\n",
       "      <th>Toss_Decide</th>\n",
       "      <th>Win_Type</th>\n",
       "      <th>Win_Margin</th>\n",
       "      <th>Outcome_type</th>\n",
       "      <th>Match_Winner</th>\n",
       "      <th>Man_of_the_Match</th>\n",
       "    </tr>\n",
       "  </thead>\n",
       "  <tbody>\n",
       "    <tr>\n",
       "      <th>0</th>\n",
       "      <td>1</td>\n",
       "      <td>335987</td>\n",
       "      <td>2</td>\n",
       "      <td>1</td>\n",
       "      <td>18/04/08</td>\n",
       "      <td>1</td>\n",
       "      <td>1</td>\n",
       "      <td>2</td>\n",
       "      <td>1</td>\n",
       "      <td>1</td>\n",
       "      <td>140.0</td>\n",
       "      <td>1</td>\n",
       "      <td>1.0</td>\n",
       "      <td>2.0</td>\n",
       "    </tr>\n",
       "    <tr>\n",
       "      <th>1</th>\n",
       "      <td>2</td>\n",
       "      <td>335988</td>\n",
       "      <td>4</td>\n",
       "      <td>3</td>\n",
       "      <td>19/04/08</td>\n",
       "      <td>1</td>\n",
       "      <td>2</td>\n",
       "      <td>3</td>\n",
       "      <td>2</td>\n",
       "      <td>1</td>\n",
       "      <td>33.0</td>\n",
       "      <td>1</td>\n",
       "      <td>3.0</td>\n",
       "      <td>19.0</td>\n",
       "    </tr>\n",
       "    <tr>\n",
       "      <th>2</th>\n",
       "      <td>3</td>\n",
       "      <td>335989</td>\n",
       "      <td>6</td>\n",
       "      <td>5</td>\n",
       "      <td>19/04/08</td>\n",
       "      <td>1</td>\n",
       "      <td>3</td>\n",
       "      <td>5</td>\n",
       "      <td>2</td>\n",
       "      <td>2</td>\n",
       "      <td>9.0</td>\n",
       "      <td>1</td>\n",
       "      <td>6.0</td>\n",
       "      <td>90.0</td>\n",
       "    </tr>\n",
       "    <tr>\n",
       "      <th>3</th>\n",
       "      <td>4</td>\n",
       "      <td>335990</td>\n",
       "      <td>7</td>\n",
       "      <td>2</td>\n",
       "      <td>20/04/08</td>\n",
       "      <td>1</td>\n",
       "      <td>4</td>\n",
       "      <td>7</td>\n",
       "      <td>2</td>\n",
       "      <td>2</td>\n",
       "      <td>5.0</td>\n",
       "      <td>1</td>\n",
       "      <td>2.0</td>\n",
       "      <td>11.0</td>\n",
       "    </tr>\n",
       "    <tr>\n",
       "      <th>4</th>\n",
       "      <td>5</td>\n",
       "      <td>335991</td>\n",
       "      <td>1</td>\n",
       "      <td>8</td>\n",
       "      <td>20/04/08</td>\n",
       "      <td>1</td>\n",
       "      <td>5</td>\n",
       "      <td>8</td>\n",
       "      <td>2</td>\n",
       "      <td>2</td>\n",
       "      <td>5.0</td>\n",
       "      <td>1</td>\n",
       "      <td>1.0</td>\n",
       "      <td>4.0</td>\n",
       "    </tr>\n",
       "  </tbody>\n",
       "</table>\n",
       "</div>"
      ],
      "text/plain": [
       "   ID  Match_Id  Team_1  Team_2 Match_Date  Season_Id  Venue_Id  Toss_Winner  \\\n",
       "0   1    335987       2       1   18/04/08          1         1            2   \n",
       "1   2    335988       4       3   19/04/08          1         2            3   \n",
       "2   3    335989       6       5   19/04/08          1         3            5   \n",
       "3   4    335990       7       2   20/04/08          1         4            7   \n",
       "4   5    335991       1       8   20/04/08          1         5            8   \n",
       "\n",
       "   Toss_Decide  Win_Type  Win_Margin  Outcome_type  Match_Winner  \\\n",
       "0            1         1       140.0             1           1.0   \n",
       "1            2         1        33.0             1           3.0   \n",
       "2            2         2         9.0             1           6.0   \n",
       "3            2         2         5.0             1           2.0   \n",
       "4            2         2         5.0             1           1.0   \n",
       "\n",
       "   Man_of_the_Match  \n",
       "0               2.0  \n",
       "1              19.0  \n",
       "2              90.0  \n",
       "3              11.0  \n",
       "4               4.0  "
      ]
     },
     "execution_count": 9,
     "metadata": {},
     "output_type": "execute_result"
    }
   ],
   "source": [
    "# Match Table\n",
    "df = pd.read_csv('https://query.data.world/s/44kl8bjdiuhohezwmxp6307yb')\n",
    "df.head()"
   ]
  },
  {
   "cell_type": "code",
   "execution_count": 10,
   "metadata": {
    "collapsed": false
   },
   "outputs": [
    {
     "data": {
      "text/html": [
       "<div>\n",
       "<table border=\"1\" class=\"dataframe\">\n",
       "  <thead>\n",
       "    <tr style=\"text-align: right;\">\n",
       "      <th></th>\n",
       "      <th>City_Id</th>\n",
       "      <th>City_Name</th>\n",
       "      <th>Country_id</th>\n",
       "    </tr>\n",
       "  </thead>\n",
       "  <tbody>\n",
       "    <tr>\n",
       "      <th>0</th>\n",
       "      <td>1</td>\n",
       "      <td>Bangalore</td>\n",
       "      <td>1</td>\n",
       "    </tr>\n",
       "    <tr>\n",
       "      <th>1</th>\n",
       "      <td>2</td>\n",
       "      <td>Chandigarh</td>\n",
       "      <td>1</td>\n",
       "    </tr>\n",
       "    <tr>\n",
       "      <th>2</th>\n",
       "      <td>3</td>\n",
       "      <td>Delhi</td>\n",
       "      <td>1</td>\n",
       "    </tr>\n",
       "    <tr>\n",
       "      <th>3</th>\n",
       "      <td>4</td>\n",
       "      <td>Mumbai</td>\n",
       "      <td>1</td>\n",
       "    </tr>\n",
       "    <tr>\n",
       "      <th>4</th>\n",
       "      <td>5</td>\n",
       "      <td>Kolkata</td>\n",
       "      <td>1</td>\n",
       "    </tr>\n",
       "  </tbody>\n",
       "</table>\n",
       "</div>"
      ],
      "text/plain": [
       "   City_Id   City_Name  Country_id\n",
       "0        1   Bangalore           1\n",
       "1        2  Chandigarh           1\n",
       "2        3       Delhi           1\n",
       "3        4      Mumbai           1\n",
       "4        5     Kolkata           1"
      ]
     },
     "execution_count": 10,
     "metadata": {},
     "output_type": "execute_result"
    }
   ],
   "source": [
    "# City Table\n",
    "df = pd.read_csv('https://query.data.world/s/cg6al8mqcfm28oyi1dfz4di6g')\n",
    "df.head()"
   ]
  },
  {
   "cell_type": "code",
   "execution_count": 11,
   "metadata": {
    "collapsed": false
   },
   "outputs": [
    {
     "data": {
      "text/html": [
       "<div>\n",
       "<table border=\"1\" class=\"dataframe\">\n",
       "  <thead>\n",
       "    <tr style=\"text-align: right;\">\n",
       "      <th></th>\n",
       "      <th>Batsman_ID</th>\n",
       "      <th>Match_Id</th>\n",
       "      <th>Over_Id</th>\n",
       "      <th>Ball_Id</th>\n",
       "      <th>Runs_Scored</th>\n",
       "      <th>Innings_No</th>\n",
       "    </tr>\n",
       "  </thead>\n",
       "  <tbody>\n",
       "    <tr>\n",
       "      <th>0</th>\n",
       "      <td>1</td>\n",
       "      <td>335987</td>\n",
       "      <td>1</td>\n",
       "      <td>1</td>\n",
       "      <td>0</td>\n",
       "      <td>1</td>\n",
       "    </tr>\n",
       "    <tr>\n",
       "      <th>1</th>\n",
       "      <td>2</td>\n",
       "      <td>335987</td>\n",
       "      <td>1</td>\n",
       "      <td>1</td>\n",
       "      <td>1</td>\n",
       "      <td>2</td>\n",
       "    </tr>\n",
       "    <tr>\n",
       "      <th>2</th>\n",
       "      <td>3</td>\n",
       "      <td>335987</td>\n",
       "      <td>1</td>\n",
       "      <td>2</td>\n",
       "      <td>0</td>\n",
       "      <td>1</td>\n",
       "    </tr>\n",
       "    <tr>\n",
       "      <th>3</th>\n",
       "      <td>4</td>\n",
       "      <td>335987</td>\n",
       "      <td>1</td>\n",
       "      <td>3</td>\n",
       "      <td>0</td>\n",
       "      <td>2</td>\n",
       "    </tr>\n",
       "    <tr>\n",
       "      <th>4</th>\n",
       "      <td>5</td>\n",
       "      <td>335987</td>\n",
       "      <td>1</td>\n",
       "      <td>4</td>\n",
       "      <td>0</td>\n",
       "      <td>1</td>\n",
       "    </tr>\n",
       "  </tbody>\n",
       "</table>\n",
       "</div>"
      ],
      "text/plain": [
       "   Batsman_ID  Match_Id  Over_Id  Ball_Id  Runs_Scored  Innings_No\n",
       "0           1    335987        1        1            0           1\n",
       "1           2    335987        1        1            1           2\n",
       "2           3    335987        1        2            0           1\n",
       "3           4    335987        1        3            0           2\n",
       "4           5    335987        1        4            0           1"
      ]
     },
     "execution_count": 11,
     "metadata": {},
     "output_type": "execute_result"
    }
   ],
   "source": [
    "# Batsman scored\n",
    "df = pd.read_csv('https://query.data.world/s/28pygp4pkervrenkpnwgy7bnu')\n",
    "df.head()"
   ]
  },
  {
   "cell_type": "code",
   "execution_count": 12,
   "metadata": {
    "collapsed": false
   },
   "outputs": [
    {
     "data": {
      "text/html": [
       "<div>\n",
       "<table border=\"1\" class=\"dataframe\">\n",
       "  <thead>\n",
       "    <tr style=\"text-align: right;\">\n",
       "      <th></th>\n",
       "      <th>Player_Id</th>\n",
       "      <th>Player_Name</th>\n",
       "      <th>DOB</th>\n",
       "      <th>Batting_hand</th>\n",
       "      <th>Bowling_skill</th>\n",
       "      <th>Country_Name</th>\n",
       "    </tr>\n",
       "  </thead>\n",
       "  <tbody>\n",
       "    <tr>\n",
       "      <th>0</th>\n",
       "      <td>1</td>\n",
       "      <td>SC Ganguly</td>\n",
       "      <td>08/07/72</td>\n",
       "      <td>1</td>\n",
       "      <td>1.0</td>\n",
       "      <td>1</td>\n",
       "    </tr>\n",
       "    <tr>\n",
       "      <th>1</th>\n",
       "      <td>2</td>\n",
       "      <td>BB McCullum</td>\n",
       "      <td>27/09/81</td>\n",
       "      <td>2</td>\n",
       "      <td>1.0</td>\n",
       "      <td>4</td>\n",
       "    </tr>\n",
       "    <tr>\n",
       "      <th>2</th>\n",
       "      <td>3</td>\n",
       "      <td>RT Ponting</td>\n",
       "      <td>19/12/74</td>\n",
       "      <td>2</td>\n",
       "      <td>1.0</td>\n",
       "      <td>5</td>\n",
       "    </tr>\n",
       "    <tr>\n",
       "      <th>3</th>\n",
       "      <td>4</td>\n",
       "      <td>DJ Hussey</td>\n",
       "      <td>15/07/77</td>\n",
       "      <td>2</td>\n",
       "      <td>2.0</td>\n",
       "      <td>5</td>\n",
       "    </tr>\n",
       "    <tr>\n",
       "      <th>4</th>\n",
       "      <td>5</td>\n",
       "      <td>Mohammad Hafeez</td>\n",
       "      <td>17/10/80</td>\n",
       "      <td>2</td>\n",
       "      <td>2.0</td>\n",
       "      <td>6</td>\n",
       "    </tr>\n",
       "  </tbody>\n",
       "</table>\n",
       "</div>"
      ],
      "text/plain": [
       "   Player_Id      Player_Name       DOB  Batting_hand  Bowling_skill  \\\n",
       "0          1       SC Ganguly  08/07/72             1            1.0   \n",
       "1          2      BB McCullum  27/09/81             2            1.0   \n",
       "2          3       RT Ponting  19/12/74             2            1.0   \n",
       "3          4        DJ Hussey  15/07/77             2            2.0   \n",
       "4          5  Mohammad Hafeez  17/10/80             2            2.0   \n",
       "\n",
       "   Country_Name  \n",
       "0             1  \n",
       "1             4  \n",
       "2             5  \n",
       "3             5  \n",
       "4             6  "
      ]
     },
     "execution_count": 12,
     "metadata": {},
     "output_type": "execute_result"
    }
   ],
   "source": [
    "df = pd.read_csv('https://query.data.world/s/3yj7m4jss1wx6n8q698on4xr9')\n",
    "df.head()"
   ]
  },
  {
   "cell_type": "code",
   "execution_count": 14,
   "metadata": {
    "collapsed": false
   },
   "outputs": [
    {
     "data": {
      "text/plain": [
       "2    343\n",
       "1    126\n",
       "Name: Batting_hand, dtype: int64"
      ]
     },
     "execution_count": 14,
     "metadata": {},
     "output_type": "execute_result"
    }
   ],
   "source": [
    "# batting hand\n",
    "# 1 for left handed \n",
    "df.Batting_hand.value_counts()"
   ]
  },
  {
   "cell_type": "code",
   "execution_count": 15,
   "metadata": {
    "collapsed": false
   },
   "outputs": [
    {
     "data": {
      "text/plain": [
       "1.0     104\n",
       "2.0      81\n",
       "3.0      53\n",
       "7.0      44\n",
       "5.0      38\n",
       "10.0     24\n",
       "4.0      21\n",
       "11.0     20\n",
       "6.0      13\n",
       "13.0     11\n",
       "9.0       8\n",
       "8.0       5\n",
       "14.0      3\n",
       "12.0      1\n",
       "Name: Bowling_skill, dtype: int64"
      ]
     },
     "execution_count": 15,
     "metadata": {},
     "output_type": "execute_result"
    }
   ],
   "source": [
    "# batting skill\n",
    "df.Bowling_skill.value_counts()"
   ]
  },
  {
   "cell_type": "code",
   "execution_count": 16,
   "metadata": {
    "collapsed": false
   },
   "outputs": [],
   "source": [
    "Season = pd.read_csv('https://query.data.world/s/e0vizskbgg0tf3nz8i9iqpm3k')"
   ]
  },
  {
   "cell_type": "code",
   "execution_count": 17,
   "metadata": {
    "collapsed": false
   },
   "outputs": [
    {
     "data": {
      "text/html": [
       "<div>\n",
       "<table border=\"1\" class=\"dataframe\">\n",
       "  <thead>\n",
       "    <tr style=\"text-align: right;\">\n",
       "      <th></th>\n",
       "      <th>Season_Id</th>\n",
       "      <th>Man_of_the_Series</th>\n",
       "      <th>Orange_Cap</th>\n",
       "      <th>Purple_Cap</th>\n",
       "      <th>Season_Year</th>\n",
       "    </tr>\n",
       "  </thead>\n",
       "  <tbody>\n",
       "    <tr>\n",
       "      <th>0</th>\n",
       "      <td>1</td>\n",
       "      <td>32</td>\n",
       "      <td>100</td>\n",
       "      <td>102</td>\n",
       "      <td>2008</td>\n",
       "    </tr>\n",
       "    <tr>\n",
       "      <th>1</th>\n",
       "      <td>2</td>\n",
       "      <td>53</td>\n",
       "      <td>18</td>\n",
       "      <td>61</td>\n",
       "      <td>2009</td>\n",
       "    </tr>\n",
       "    <tr>\n",
       "      <th>2</th>\n",
       "      <td>3</td>\n",
       "      <td>133</td>\n",
       "      <td>133</td>\n",
       "      <td>131</td>\n",
       "      <td>2010</td>\n",
       "    </tr>\n",
       "    <tr>\n",
       "      <th>3</th>\n",
       "      <td>4</td>\n",
       "      <td>162</td>\n",
       "      <td>162</td>\n",
       "      <td>194</td>\n",
       "      <td>2011</td>\n",
       "    </tr>\n",
       "    <tr>\n",
       "      <th>4</th>\n",
       "      <td>5</td>\n",
       "      <td>315</td>\n",
       "      <td>162</td>\n",
       "      <td>190</td>\n",
       "      <td>2012</td>\n",
       "    </tr>\n",
       "  </tbody>\n",
       "</table>\n",
       "</div>"
      ],
      "text/plain": [
       "   Season_Id  Man_of_the_Series  Orange_Cap  Purple_Cap  Season_Year\n",
       "0          1                 32         100         102         2008\n",
       "1          2                 53          18          61         2009\n",
       "2          3                133         133         131         2010\n",
       "3          4                162         162         194         2011\n",
       "4          5                315         162         190         2012"
      ]
     },
     "execution_count": 17,
     "metadata": {},
     "output_type": "execute_result"
    }
   ],
   "source": [
    "Season.head()"
   ]
  },
  {
   "cell_type": "code",
   "execution_count": 18,
   "metadata": {
    "collapsed": false
   },
   "outputs": [
    {
     "data": {
      "text/plain": [
       "Season_Id            0\n",
       "Man_of_the_Series    0\n",
       "Orange_Cap           0\n",
       "Purple_Cap           0\n",
       "Season_Year          0\n",
       "dtype: int64"
      ]
     },
     "execution_count": 18,
     "metadata": {},
     "output_type": "execute_result"
    }
   ],
   "source": [
    "# N0 NUll values\n",
    "Season.isnull().sum()"
   ]
  },
  {
   "cell_type": "code",
   "execution_count": 19,
   "metadata": {
    "collapsed": false
   },
   "outputs": [
    {
     "data": {
      "text/plain": [
       "2015    1\n",
       "2014    1\n",
       "2013    1\n",
       "2012    1\n",
       "2011    1\n",
       "2010    1\n",
       "2009    1\n",
       "2008    1\n",
       "2016    1\n",
       "Name: Season_Year, dtype: int64"
      ]
     },
     "execution_count": 19,
     "metadata": {},
     "output_type": "execute_result"
    }
   ],
   "source": [
    "Season.Season_Year.value_counts()"
   ]
  },
  {
   "cell_type": "markdown",
   "metadata": {},
   "source": [
    "# Venue score the CSV files after the SQL query\n",
    "- select venue.venue_name,\n",
    "- sum(batsman_scored.batsman_scored.runs_scored),\n",
    "- count(distinct match.match_id) match\n",
    "- from batsman_scored\n",
    "- inner join match on match.match_id = batsman_scored.match_id\n",
    "- inner join venue on venue.venue_id = match.venue_id\n",
    "- group by venue.venue_name\n",
    "- order by 2 asc;"
   ]
  },
  {
   "cell_type": "code",
   "execution_count": 20,
   "metadata": {
    "collapsed": true
   },
   "outputs": [],
   "source": [
    "# import pandas as pd\n",
    "Venue_scored = pd.read_csv('https://query.data.world/s/cvuw9lrvkh64b07bzmchufg2y')"
   ]
  },
  {
   "cell_type": "code",
   "execution_count": 21,
   "metadata": {
    "collapsed": false
   },
   "outputs": [
    {
     "data": {
      "text/html": [
       "<div>\n",
       "<table border=\"1\" class=\"dataframe\">\n",
       "  <thead>\n",
       "    <tr style=\"text-align: right;\">\n",
       "      <th></th>\n",
       "      <th>venue_name</th>\n",
       "      <th>runs_scored</th>\n",
       "      <th>match</th>\n",
       "    </tr>\n",
       "  </thead>\n",
       "  <tbody>\n",
       "    <tr>\n",
       "      <th>0</th>\n",
       "      <td>Punjab Cricket Association Stadium</td>\n",
       "      <td>10421</td>\n",
       "      <td>35</td>\n",
       "    </tr>\n",
       "    <tr>\n",
       "      <th>1</th>\n",
       "      <td>Rajiv Gandhi International Stadium</td>\n",
       "      <td>11748</td>\n",
       "      <td>41</td>\n",
       "    </tr>\n",
       "    <tr>\n",
       "      <th>2</th>\n",
       "      <td>Nehru Stadium</td>\n",
       "      <td>1286</td>\n",
       "      <td>5</td>\n",
       "    </tr>\n",
       "    <tr>\n",
       "      <th>3</th>\n",
       "      <td>Wankhede Stadium</td>\n",
       "      <td>14436</td>\n",
       "      <td>49</td>\n",
       "    </tr>\n",
       "    <tr>\n",
       "      <th>4</th>\n",
       "      <td>MA Chidambaram Stadium</td>\n",
       "      <td>14471</td>\n",
       "      <td>48</td>\n",
       "    </tr>\n",
       "  </tbody>\n",
       "</table>\n",
       "</div>"
      ],
      "text/plain": [
       "                           venue_name  runs_scored  match\n",
       "0  Punjab Cricket Association Stadium        10421     35\n",
       "1  Rajiv Gandhi International Stadium        11748     41\n",
       "2                       Nehru Stadium         1286      5\n",
       "3                    Wankhede Stadium        14436     49\n",
       "4              MA Chidambaram Stadium        14471     48"
      ]
     },
     "execution_count": 21,
     "metadata": {},
     "output_type": "execute_result"
    }
   ],
   "source": [
    "Venue_scored.head()"
   ]
  },
  {
   "cell_type": "code",
   "execution_count": 22,
   "metadata": {
    "collapsed": false
   },
   "outputs": [
    {
     "data": {
      "text/plain": [
       "<matplotlib.axes._subplots.AxesSubplot at 0x10f92a5f8>"
      ]
     },
     "execution_count": 22,
     "metadata": {},
     "output_type": "execute_result"
    },
    {
     "data": {
      "image/png": "[encoded data removed]",
      "text/plain": [
       "<matplotlib.figure.Figure at 0x10f92a780>"
      ]
     },
     "metadata": {},
     "output_type": "display_data"
    }
   ],
   "source": [
    "Venue_scored.runs_scored.plot(kind=\"hist\", figsize=(10,7), bins = 5)"
   ]
  },
  {
   "cell_type": "markdown",
   "metadata": {
    "collapsed": false
   },
   "source": [
    "- for 2000 overall season runs, we have more grounds and venues"
   ]
  },
  {
   "cell_type": "code",
   "execution_count": 24,
   "metadata": {
    "collapsed": false
   },
   "outputs": [
    {
     "data": {
      "text/html": [
       "<div>\n",
       "<table border=\"1\" class=\"dataframe\">\n",
       "  <thead>\n",
       "    <tr style=\"text-align: right;\">\n",
       "      <th></th>\n",
       "      <th>venue_name</th>\n",
       "      <th>runs_scored</th>\n",
       "      <th>match</th>\n",
       "    </tr>\n",
       "  </thead>\n",
       "  <tbody>\n",
       "    <tr>\n",
       "      <th>0</th>\n",
       "      <td>Punjab Cricket Association Stadium</td>\n",
       "      <td>10421</td>\n",
       "      <td>35</td>\n",
       "    </tr>\n",
       "    <tr>\n",
       "      <th>1</th>\n",
       "      <td>Rajiv Gandhi International Stadium</td>\n",
       "      <td>11748</td>\n",
       "      <td>41</td>\n",
       "    </tr>\n",
       "    <tr>\n",
       "      <th>2</th>\n",
       "      <td>Nehru Stadium</td>\n",
       "      <td>1286</td>\n",
       "      <td>5</td>\n",
       "    </tr>\n",
       "    <tr>\n",
       "      <th>3</th>\n",
       "      <td>Wankhede Stadium</td>\n",
       "      <td>14436</td>\n",
       "      <td>49</td>\n",
       "    </tr>\n",
       "    <tr>\n",
       "      <th>4</th>\n",
       "      <td>MA Chidambaram Stadium</td>\n",
       "      <td>14471</td>\n",
       "      <td>48</td>\n",
       "    </tr>\n",
       "  </tbody>\n",
       "</table>\n",
       "</div>"
      ],
      "text/plain": [
       "                           venue_name  runs_scored  match\n",
       "0  Punjab Cricket Association Stadium        10421     35\n",
       "1  Rajiv Gandhi International Stadium        11748     41\n",
       "2                       Nehru Stadium         1286      5\n",
       "3                    Wankhede Stadium        14436     49\n",
       "4              MA Chidambaram Stadium        14471     48"
      ]
     },
     "execution_count": 24,
     "metadata": {},
     "output_type": "execute_result"
    }
   ],
   "source": [
    "Venue_scored.head()"
   ]
  },
  {
   "cell_type": "markdown",
   "metadata": {},
   "source": [
    "# Joining and Grouping "
   ]
  },
  {
   "cell_type": "markdown",
   "metadata": {},
   "source": [
    "# Analysis of Extra runs season wise from 2008 to 2015"
   ]
  },
  {
   "cell_type": "markdown",
   "metadata": {},
   "source": [
    "# Sql\n",
    "- select match.match_id, season.season_id, season.season_year,\n",
    "- sum(extra_runs.extra_runs)\n",
    "- from extra_runs\n",
    "- inner join match on match.match_id = extra_runs.match_id\n",
    "- inner join season on season.season_id = match.season_id\n",
    "- group by season.season_id,season.season_year\n",
    "- order by season_year"
   ]
  },
  {
   "cell_type": "code",
   "execution_count": 25,
   "metadata": {
    "collapsed": true
   },
   "outputs": [],
   "source": [
    "# Another query\n",
    "import pandas as pd\n",
    "Season_extraa = pd.read_csv('https://query.data.world/s/8e1frujwf7ok1di3w60w35aei')"
   ]
  },
  {
   "cell_type": "code",
   "execution_count": 26,
   "metadata": {
    "collapsed": false
   },
   "outputs": [
    {
     "data": {
      "text/html": [
       "<div>\n",
       "<table border=\"1\" class=\"dataframe\">\n",
       "  <thead>\n",
       "    <tr style=\"text-align: right;\">\n",
       "      <th></th>\n",
       "      <th>match_id</th>\n",
       "      <th>season_id</th>\n",
       "      <th>season_year</th>\n",
       "      <th>extra_runs</th>\n",
       "    </tr>\n",
       "  </thead>\n",
       "  <tbody>\n",
       "    <tr>\n",
       "      <th>0</th>\n",
       "      <td>335987</td>\n",
       "      <td>1</td>\n",
       "      <td>2008</td>\n",
       "      <td>1128</td>\n",
       "    </tr>\n",
       "    <tr>\n",
       "      <th>1</th>\n",
       "      <td>392230</td>\n",
       "      <td>2</td>\n",
       "      <td>2009</td>\n",
       "      <td>977</td>\n",
       "    </tr>\n",
       "    <tr>\n",
       "      <th>2</th>\n",
       "      <td>419111</td>\n",
       "      <td>3</td>\n",
       "      <td>2010</td>\n",
       "      <td>1129</td>\n",
       "    </tr>\n",
       "    <tr>\n",
       "      <th>3</th>\n",
       "      <td>501203</td>\n",
       "      <td>4</td>\n",
       "      <td>2011</td>\n",
       "      <td>1226</td>\n",
       "    </tr>\n",
       "    <tr>\n",
       "      <th>4</th>\n",
       "      <td>548311</td>\n",
       "      <td>5</td>\n",
       "      <td>2012</td>\n",
       "      <td>1131</td>\n",
       "    </tr>\n",
       "    <tr>\n",
       "      <th>5</th>\n",
       "      <td>598003</td>\n",
       "      <td>6</td>\n",
       "      <td>2013</td>\n",
       "      <td>1115</td>\n",
       "    </tr>\n",
       "    <tr>\n",
       "      <th>6</th>\n",
       "      <td>729284</td>\n",
       "      <td>7</td>\n",
       "      <td>2014</td>\n",
       "      <td>983</td>\n",
       "    </tr>\n",
       "    <tr>\n",
       "      <th>7</th>\n",
       "      <td>829710</td>\n",
       "      <td>8</td>\n",
       "      <td>2015</td>\n",
       "      <td>926</td>\n",
       "    </tr>\n",
       "    <tr>\n",
       "      <th>8</th>\n",
       "      <td>980906</td>\n",
       "      <td>9</td>\n",
       "      <td>2016</td>\n",
       "      <td>899</td>\n",
       "    </tr>\n",
       "  </tbody>\n",
       "</table>\n",
       "</div>"
      ],
      "text/plain": [
       "   match_id  season_id  season_year  extra_runs\n",
       "0    335987          1         2008        1128\n",
       "1    392230          2         2009         977\n",
       "2    419111          3         2010        1129\n",
       "3    501203          4         2011        1226\n",
       "4    548311          5         2012        1131\n",
       "5    598003          6         2013        1115\n",
       "6    729284          7         2014         983\n",
       "7    829710          8         2015         926\n",
       "8    980906          9         2016         899"
      ]
     },
     "execution_count": 26,
     "metadata": {},
     "output_type": "execute_result"
    }
   ],
   "source": [
    "Season_extraa"
   ]
  },
  {
   "cell_type": "markdown",
   "metadata": {},
   "source": [
    "# Season wise Runs scored"
   ]
  },
  {
   "cell_type": "markdown",
   "metadata": {
    "collapsed": false
   },
   "source": [
    "# SQL\n",
    "- select match.match_id, season.season_id, season.season_year,\n",
    "- sum(batsman_scored.runs_scored)\n",
    "- from batsman_scored\n",
    "- inner join match on match.match_id = batsman_scored.match_id\n",
    "- inner join season on season.season_id = match.season_id\n",
    "- group by season.season_id,season.season_year\n",
    "- order by season_year"
   ]
  },
  {
   "cell_type": "code",
   "execution_count": 27,
   "metadata": {
    "collapsed": true
   },
   "outputs": [],
   "source": [
    "# Result\n",
    "import pandas as pd\n",
    "data = pd.read_csv('https://query.data.world/s/39kudwfr5xalwij9hgubj5is5')"
   ]
  },
  {
   "cell_type": "code",
   "execution_count": 28,
   "metadata": {
    "collapsed": false
   },
   "outputs": [
    {
     "data": {
      "text/html": [
       "<div>\n",
       "<table border=\"1\" class=\"dataframe\">\n",
       "  <thead>\n",
       "    <tr style=\"text-align: right;\">\n",
       "      <th></th>\n",
       "      <th>match_id</th>\n",
       "      <th>season_id</th>\n",
       "      <th>season_year</th>\n",
       "      <th>runs_scored</th>\n",
       "    </tr>\n",
       "  </thead>\n",
       "  <tbody>\n",
       "    <tr>\n",
       "      <th>0</th>\n",
       "      <td>335987</td>\n",
       "      <td>1</td>\n",
       "      <td>2008</td>\n",
       "      <td>16799</td>\n",
       "    </tr>\n",
       "    <tr>\n",
       "      <th>1</th>\n",
       "      <td>392230</td>\n",
       "      <td>2</td>\n",
       "      <td>2009</td>\n",
       "      <td>15372</td>\n",
       "    </tr>\n",
       "    <tr>\n",
       "      <th>2</th>\n",
       "      <td>419111</td>\n",
       "      <td>3</td>\n",
       "      <td>2010</td>\n",
       "      <td>17753</td>\n",
       "    </tr>\n",
       "    <tr>\n",
       "      <th>3</th>\n",
       "      <td>501203</td>\n",
       "      <td>4</td>\n",
       "      <td>2011</td>\n",
       "      <td>19916</td>\n",
       "    </tr>\n",
       "    <tr>\n",
       "      <th>4</th>\n",
       "      <td>548311</td>\n",
       "      <td>5</td>\n",
       "      <td>2012</td>\n",
       "      <td>21309</td>\n",
       "    </tr>\n",
       "    <tr>\n",
       "      <th>5</th>\n",
       "      <td>598003</td>\n",
       "      <td>6</td>\n",
       "      <td>2013</td>\n",
       "      <td>21483</td>\n",
       "    </tr>\n",
       "    <tr>\n",
       "      <th>6</th>\n",
       "      <td>729284</td>\n",
       "      <td>7</td>\n",
       "      <td>2014</td>\n",
       "      <td>17943</td>\n",
       "    </tr>\n",
       "    <tr>\n",
       "      <th>7</th>\n",
       "      <td>829710</td>\n",
       "      <td>8</td>\n",
       "      <td>2015</td>\n",
       "      <td>17427</td>\n",
       "    </tr>\n",
       "    <tr>\n",
       "      <th>8</th>\n",
       "      <td>980906</td>\n",
       "      <td>9</td>\n",
       "      <td>2016</td>\n",
       "      <td>17959</td>\n",
       "    </tr>\n",
       "  </tbody>\n",
       "</table>\n",
       "</div>"
      ],
      "text/plain": [
       "   match_id  season_id  season_year  runs_scored\n",
       "0    335987          1         2008        16799\n",
       "1    392230          2         2009        15372\n",
       "2    419111          3         2010        17753\n",
       "3    501203          4         2011        19916\n",
       "4    548311          5         2012        21309\n",
       "5    598003          6         2013        21483\n",
       "6    729284          7         2014        17943\n",
       "7    829710          8         2015        17427\n",
       "8    980906          9         2016        17959"
      ]
     },
     "execution_count": 28,
     "metadata": {},
     "output_type": "execute_result"
    }
   ],
   "source": [
    "data"
   ]
  },
  {
   "cell_type": "code",
   "execution_count": 29,
   "metadata": {
    "collapsed": false
   },
   "outputs": [
    {
     "data": {
      "text/plain": [
       "<Container object of 9 artists>"
      ]
     },
     "execution_count": 29,
     "metadata": {},
     "output_type": "execute_result"
    },
    {
     "data": {
      "image/png": "[encoded data removed]",
      "text/plain": [
       "<matplotlib.figure.Figure at 0x114838278>"
      ]
     },
     "metadata": {},
     "output_type": "display_data"
    }
   ],
   "source": [
    "X = data[\"season_year\"]\n",
    "Y = data[\"runs_scored\"]\n",
    "plt.bar(X,Y, width= 0.4)"
   ]
  },
  {
   "cell_type": "code",
   "execution_count": 30,
   "metadata": {
    "collapsed": true
   },
   "outputs": [],
   "source": [
    "# Season 5 and 6 are more run scoring seasons.\n",
    "# This is how we can execute the queries then embed the code into the Python and visualize the result."
   ]
  },
  {
   "cell_type": "markdown",
   "metadata": {},
   "source": [
    "# SQL \n",
    "- select \n",
    "- sum(extra_runs),extra_runs.innings_no\n",
    "- from\n",
    "- extra_runs\n",
    "- group by\n",
    "- innings_no"
   ]
  },
  {
   "cell_type": "code",
   "execution_count": 31,
   "metadata": {
    "collapsed": false
   },
   "outputs": [
    {
     "data": {
      "text/html": [
       "<div>\n",
       "<table border=\"1\" class=\"dataframe\">\n",
       "  <thead>\n",
       "    <tr style=\"text-align: right;\">\n",
       "      <th></th>\n",
       "      <th>extra_runs</th>\n",
       "      <th>innings_no</th>\n",
       "    </tr>\n",
       "  </thead>\n",
       "  <tbody>\n",
       "    <tr>\n",
       "      <th>0</th>\n",
       "      <td>4924</td>\n",
       "      <td>1</td>\n",
       "    </tr>\n",
       "    <tr>\n",
       "      <th>1</th>\n",
       "      <td>4584</td>\n",
       "      <td>2</td>\n",
       "    </tr>\n",
       "    <tr>\n",
       "      <th>2</th>\n",
       "      <td>5</td>\n",
       "      <td>3</td>\n",
       "    </tr>\n",
       "    <tr>\n",
       "      <th>3</th>\n",
       "      <td>1</td>\n",
       "      <td>4</td>\n",
       "    </tr>\n",
       "  </tbody>\n",
       "</table>\n",
       "</div>"
      ],
      "text/plain": [
       "   extra_runs  innings_no\n",
       "0        4924           1\n",
       "1        4584           2\n",
       "2           5           3\n",
       "3           1           4"
      ]
     },
     "execution_count": 31,
     "metadata": {},
     "output_type": "execute_result"
    }
   ],
   "source": [
    "# Result of SQL in dataframe\n",
    "df = pd.read_csv('https://query.data.world/s/5rlcxneg46iyz5o4scwsxvzd4')\n",
    "df.head()"
   ]
  },
  {
   "cell_type": "markdown",
   "metadata": {},
   "source": [
    "- Innings 3 and 4 we can discard.\n",
    "- Extra score for innings 1 > Innings 2"
   ]
  },
  {
   "cell_type": "code",
   "execution_count": 32,
   "metadata": {
    "collapsed": true
   },
   "outputs": [],
   "source": [
    "# Winning Margin in First innings after Wiining the toss"
   ]
  },
  {
   "cell_type": "markdown",
   "metadata": {},
   "source": [
    "# SQL Code\n",
    "- select season.season_id, season.season_year,sum(match.win_margin)\n",
    "- from match\n",
    "- inner join season on season.season_id = match.season_id\n",
    "- where match.toss_winner = 1\n",
    "- group by season.season_year, season.season_id\n",
    "- order by season.season_year"
   ]
  },
  {
   "cell_type": "code",
   "execution_count": 33,
   "metadata": {
    "collapsed": false
   },
   "outputs": [],
   "source": [
    "# Result\n",
    "df = pd.read_csv('https://query.data.world/s/4kqq53e3fvqv6m3xqswchb2ko')"
   ]
  },
  {
   "cell_type": "code",
   "execution_count": 34,
   "metadata": {
    "collapsed": false
   },
   "outputs": [
    {
     "data": {
      "text/html": [
       "<div>\n",
       "<table border=\"1\" class=\"dataframe\">\n",
       "  <thead>\n",
       "    <tr style=\"text-align: right;\">\n",
       "      <th></th>\n",
       "      <th>season_id</th>\n",
       "      <th>season_year</th>\n",
       "      <th>win_margin</th>\n",
       "    </tr>\n",
       "  </thead>\n",
       "  <tbody>\n",
       "    <tr>\n",
       "      <th>0</th>\n",
       "      <td>1</td>\n",
       "      <td>2008</td>\n",
       "      <td>70</td>\n",
       "    </tr>\n",
       "    <tr>\n",
       "      <th>1</th>\n",
       "      <td>2</td>\n",
       "      <td>2009</td>\n",
       "      <td>43</td>\n",
       "    </tr>\n",
       "    <tr>\n",
       "      <th>2</th>\n",
       "      <td>3</td>\n",
       "      <td>2010</td>\n",
       "      <td>108</td>\n",
       "    </tr>\n",
       "    <tr>\n",
       "      <th>3</th>\n",
       "      <td>4</td>\n",
       "      <td>2011</td>\n",
       "      <td>64</td>\n",
       "    </tr>\n",
       "    <tr>\n",
       "      <th>4</th>\n",
       "      <td>5</td>\n",
       "      <td>2012</td>\n",
       "      <td>135</td>\n",
       "    </tr>\n",
       "    <tr>\n",
       "      <th>5</th>\n",
       "      <td>6</td>\n",
       "      <td>2013</td>\n",
       "      <td>170</td>\n",
       "    </tr>\n",
       "    <tr>\n",
       "      <th>6</th>\n",
       "      <td>7</td>\n",
       "      <td>2014</td>\n",
       "      <td>108</td>\n",
       "    </tr>\n",
       "    <tr>\n",
       "      <th>7</th>\n",
       "      <td>8</td>\n",
       "      <td>2015</td>\n",
       "      <td>60</td>\n",
       "    </tr>\n",
       "    <tr>\n",
       "      <th>8</th>\n",
       "      <td>9</td>\n",
       "      <td>2016</td>\n",
       "      <td>71</td>\n",
       "    </tr>\n",
       "  </tbody>\n",
       "</table>\n",
       "</div>"
      ],
      "text/plain": [
       "   season_id  season_year  win_margin\n",
       "0          1         2008          70\n",
       "1          2         2009          43\n",
       "2          3         2010         108\n",
       "3          4         2011          64\n",
       "4          5         2012         135\n",
       "5          6         2013         170\n",
       "6          7         2014         108\n",
       "7          8         2015          60\n",
       "8          9         2016          71"
      ]
     },
     "execution_count": 34,
     "metadata": {},
     "output_type": "execute_result"
    }
   ],
   "source": [
    "df"
   ]
  },
  {
   "cell_type": "markdown",
   "metadata": {},
   "source": [
    "# Win margin in second Innings\n",
    "* select season.season_id, season.season_year,sum(match.win_margin)\n",
    "* from match\n",
    "* inner join season on season.season_id = match.season_id\n",
    "* where match.toss_winner = 2\n",
    "* group by season.season_year, season.season_id\n",
    "* order by season.season_year"
   ]
  },
  {
   "cell_type": "code",
   "execution_count": 35,
   "metadata": {
    "collapsed": false
   },
   "outputs": [
    {
     "data": {
      "text/html": [
       "<div>\n",
       "<table border=\"1\" class=\"dataframe\">\n",
       "  <thead>\n",
       "    <tr style=\"text-align: right;\">\n",
       "      <th></th>\n",
       "      <th>season_id</th>\n",
       "      <th>season_year</th>\n",
       "      <th>win_margin</th>\n",
       "    </tr>\n",
       "  </thead>\n",
       "  <tbody>\n",
       "    <tr>\n",
       "      <th>0</th>\n",
       "      <td>1</td>\n",
       "      <td>2008</td>\n",
       "      <td>238</td>\n",
       "    </tr>\n",
       "    <tr>\n",
       "      <th>1</th>\n",
       "      <td>2</td>\n",
       "      <td>2009</td>\n",
       "      <td>126</td>\n",
       "    </tr>\n",
       "    <tr>\n",
       "      <th>2</th>\n",
       "      <td>3</td>\n",
       "      <td>2010</td>\n",
       "      <td>109</td>\n",
       "    </tr>\n",
       "    <tr>\n",
       "      <th>3</th>\n",
       "      <td>4</td>\n",
       "      <td>2011</td>\n",
       "      <td>66</td>\n",
       "    </tr>\n",
       "    <tr>\n",
       "      <th>4</th>\n",
       "      <td>5</td>\n",
       "      <td>2012</td>\n",
       "      <td>75</td>\n",
       "    </tr>\n",
       "    <tr>\n",
       "      <th>5</th>\n",
       "      <td>6</td>\n",
       "      <td>2013</td>\n",
       "      <td>32</td>\n",
       "    </tr>\n",
       "    <tr>\n",
       "      <th>6</th>\n",
       "      <td>7</td>\n",
       "      <td>2014</td>\n",
       "      <td>114</td>\n",
       "    </tr>\n",
       "    <tr>\n",
       "      <th>7</th>\n",
       "      <td>8</td>\n",
       "      <td>2015</td>\n",
       "      <td>206</td>\n",
       "    </tr>\n",
       "    <tr>\n",
       "      <th>8</th>\n",
       "      <td>9</td>\n",
       "      <td>2016</td>\n",
       "      <td>47</td>\n",
       "    </tr>\n",
       "  </tbody>\n",
       "</table>\n",
       "</div>"
      ],
      "text/plain": [
       "   season_id  season_year  win_margin\n",
       "0          1         2008         238\n",
       "1          2         2009         126\n",
       "2          3         2010         109\n",
       "3          4         2011          66\n",
       "4          5         2012          75\n",
       "5          6         2013          32\n",
       "6          7         2014         114\n",
       "7          8         2015         206\n",
       "8          9         2016          47"
      ]
     },
     "execution_count": 35,
     "metadata": {},
     "output_type": "execute_result"
    }
   ],
   "source": [
    "df = pd.read_csv('https://query.data.world/s/5vdkqair2izt4kzxyttfz2yj7')\n",
    "df"
   ]
  },
  {
   "cell_type": "markdown",
   "metadata": {},
   "source": [
    "# Conclusion: Most of the times, Winning Percentage for Second playing team is more than first innings."
   ]
  },
  {
   "cell_type": "markdown",
   "metadata": {
    "collapsed": true
   },
   "source": [
    "# Player analysis using Pandas "
   ]
  },
  {
   "cell_type": "code",
   "execution_count": 36,
   "metadata": {
    "collapsed": true
   },
   "outputs": [],
   "source": [
    "Player = pd.read_csv('https://query.data.world/s/16c0rf2mt6pcifdqjhvt0g4jy')"
   ]
  },
  {
   "cell_type": "code",
   "execution_count": 37,
   "metadata": {
    "collapsed": false
   },
   "outputs": [
    {
     "data": {
      "text/html": [
       "<div>\n",
       "<table border=\"1\" class=\"dataframe\">\n",
       "  <thead>\n",
       "    <tr style=\"text-align: right;\">\n",
       "      <th></th>\n",
       "      <th>Player_Id</th>\n",
       "      <th>Player_Name</th>\n",
       "      <th>DOB</th>\n",
       "      <th>Batting_hand</th>\n",
       "      <th>Bowling_skill</th>\n",
       "      <th>Country_Name</th>\n",
       "    </tr>\n",
       "  </thead>\n",
       "  <tbody>\n",
       "    <tr>\n",
       "      <th>0</th>\n",
       "      <td>1</td>\n",
       "      <td>SC Ganguly</td>\n",
       "      <td>1972-07-08</td>\n",
       "      <td>1</td>\n",
       "      <td>1.0</td>\n",
       "      <td>1</td>\n",
       "    </tr>\n",
       "    <tr>\n",
       "      <th>1</th>\n",
       "      <td>2</td>\n",
       "      <td>BB McCullum</td>\n",
       "      <td>1981-09-27</td>\n",
       "      <td>2</td>\n",
       "      <td>1.0</td>\n",
       "      <td>4</td>\n",
       "    </tr>\n",
       "    <tr>\n",
       "      <th>2</th>\n",
       "      <td>3</td>\n",
       "      <td>RT Ponting</td>\n",
       "      <td>1974-12-19</td>\n",
       "      <td>2</td>\n",
       "      <td>1.0</td>\n",
       "      <td>5</td>\n",
       "    </tr>\n",
       "    <tr>\n",
       "      <th>3</th>\n",
       "      <td>4</td>\n",
       "      <td>DJ Hussey</td>\n",
       "      <td>1977-07-15</td>\n",
       "      <td>2</td>\n",
       "      <td>2.0</td>\n",
       "      <td>5</td>\n",
       "    </tr>\n",
       "    <tr>\n",
       "      <th>4</th>\n",
       "      <td>5</td>\n",
       "      <td>Mohammad Hafeez</td>\n",
       "      <td>1980-10-17</td>\n",
       "      <td>2</td>\n",
       "      <td>2.0</td>\n",
       "      <td>6</td>\n",
       "    </tr>\n",
       "  </tbody>\n",
       "</table>\n",
       "</div>"
      ],
      "text/plain": [
       "   Player_Id      Player_Name         DOB  Batting_hand  Bowling_skill  \\\n",
       "0          1       SC Ganguly  1972-07-08             1            1.0   \n",
       "1          2      BB McCullum  1981-09-27             2            1.0   \n",
       "2          3       RT Ponting  1974-12-19             2            1.0   \n",
       "3          4        DJ Hussey  1977-07-15             2            2.0   \n",
       "4          5  Mohammad Hafeez  1980-10-17             2            2.0   \n",
       "\n",
       "   Country_Name  \n",
       "0             1  \n",
       "1             4  \n",
       "2             5  \n",
       "3             5  \n",
       "4             6  "
      ]
     },
     "execution_count": 37,
     "metadata": {},
     "output_type": "execute_result"
    }
   ],
   "source": [
    "Player.head()"
   ]
  },
  {
   "cell_type": "code",
   "execution_count": 38,
   "metadata": {
    "collapsed": false
   },
   "outputs": [
    {
     "data": {
      "text/plain": [
       "V Sehwag            1\n",
       "DJ Hussey           1\n",
       "JP Duminy           1\n",
       "T Shamsi            1\n",
       "KC Sangakkara       1\n",
       "K Upadhyay          1\n",
       "J Botha             1\n",
       "MN van Wyk          1\n",
       "KK Cooper           1\n",
       "MC Henriques        1\n",
       "ND Doshi            1\n",
       "Joginder Sharma     1\n",
       "KC Cariappa         1\n",
       "Mandeep Singh       1\n",
       "DAJ Bracewell       1\n",
       "NL McCullum         1\n",
       "Shoaib Akhtar       1\n",
       "DJ Harris           1\n",
       "T Mishra            1\n",
       "A Flintoff          1\n",
       "JDS Neesham         1\n",
       "S Badree            1\n",
       "CR Brathwaite       1\n",
       "TP Sudhindra        1\n",
       "CA Pujara           1\n",
       "VY Mahesh           1\n",
       "CRD Fernando        1\n",
       "WP Saha             1\n",
       "HH Gibbs            1\n",
       "YA Abdulla          1\n",
       "                   ..\n",
       "DT Christian        1\n",
       "JR Hopes            1\n",
       "RR Sarwan           1\n",
       "JJ van der Wath     1\n",
       "Mohammad Asif       1\n",
       "W Jaffer            1\n",
       "KK Nair             1\n",
       "SN Khan             1\n",
       "RR Pant             1\n",
       "K Goel              1\n",
       "A Nehra             1\n",
       "BJ Rohrer           1\n",
       "S Sreesanth         1\n",
       "PM Sarvesh Kumar    1\n",
       "T Taibu             1\n",
       "Anirudh Singh       1\n",
       "HH Pandya           1\n",
       "TA Boult            1\n",
       "S Aravind           1\n",
       "NLTC Perera         1\n",
       "SK Trivedi          1\n",
       "Parvez Rasool       1\n",
       "A Mithun            1\n",
       "RR Rossouw          1\n",
       "P Suyal             1\n",
       "VH Zol              1\n",
       "A Mukund            1\n",
       "DJ Muthuswami       1\n",
       "MS Wade             1\n",
       "K Santokie          1\n",
       "Name: Player_Name, dtype: int64"
      ]
     },
     "execution_count": 38,
     "metadata": {},
     "output_type": "execute_result"
    }
   ],
   "source": [
    "# HOw many Player played in IPL\n",
    "Player.Player_Name.value_counts()"
   ]
  },
  {
   "cell_type": "code",
   "execution_count": 39,
   "metadata": {
    "collapsed": false
   },
   "outputs": [],
   "source": [
    "Player[\"Born_Year\"]  =pd.to_datetime(Player.DOB)"
   ]
  },
  {
   "cell_type": "code",
   "execution_count": 40,
   "metadata": {
    "collapsed": false
   },
   "outputs": [
    {
     "data": {
      "text/plain": [
       "Player_Id                 int64\n",
       "Player_Name              object\n",
       "DOB                      object\n",
       "Batting_hand              int64\n",
       "Bowling_skill           float64\n",
       "Country_Name              int64\n",
       "Born_Year        datetime64[ns]\n",
       "dtype: object"
      ]
     },
     "execution_count": 40,
     "metadata": {},
     "output_type": "execute_result"
    }
   ],
   "source": [
    "Player.dtypes"
   ]
  },
  {
   "cell_type": "code",
   "execution_count": 41,
   "metadata": {
    "collapsed": false
   },
   "outputs": [],
   "source": [
    "Player = Player.drop(\"DOB\", axis=1)"
   ]
  },
  {
   "cell_type": "code",
   "execution_count": 42,
   "metadata": {
    "collapsed": true
   },
   "outputs": [],
   "source": [
    "Player[\"Year\"] = Player.Born_Year.dt.year"
   ]
  },
  {
   "cell_type": "code",
   "execution_count": 43,
   "metadata": {
    "collapsed": false
   },
   "outputs": [
    {
     "data": {
      "text/html": [
       "<div>\n",
       "<table border=\"1\" class=\"dataframe\">\n",
       "  <thead>\n",
       "    <tr style=\"text-align: right;\">\n",
       "      <th></th>\n",
       "      <th>Player_Id</th>\n",
       "      <th>Player_Name</th>\n",
       "      <th>Batting_hand</th>\n",
       "      <th>Bowling_skill</th>\n",
       "      <th>Country_Name</th>\n",
       "      <th>Born_Year</th>\n",
       "      <th>Year</th>\n",
       "    </tr>\n",
       "  </thead>\n",
       "  <tbody>\n",
       "    <tr>\n",
       "      <th>0</th>\n",
       "      <td>1</td>\n",
       "      <td>SC Ganguly</td>\n",
       "      <td>1</td>\n",
       "      <td>1.0</td>\n",
       "      <td>1</td>\n",
       "      <td>1972-07-08</td>\n",
       "      <td>1972</td>\n",
       "    </tr>\n",
       "    <tr>\n",
       "      <th>1</th>\n",
       "      <td>2</td>\n",
       "      <td>BB McCullum</td>\n",
       "      <td>2</td>\n",
       "      <td>1.0</td>\n",
       "      <td>4</td>\n",
       "      <td>1981-09-27</td>\n",
       "      <td>1981</td>\n",
       "    </tr>\n",
       "    <tr>\n",
       "      <th>2</th>\n",
       "      <td>3</td>\n",
       "      <td>RT Ponting</td>\n",
       "      <td>2</td>\n",
       "      <td>1.0</td>\n",
       "      <td>5</td>\n",
       "      <td>1974-12-19</td>\n",
       "      <td>1974</td>\n",
       "    </tr>\n",
       "    <tr>\n",
       "      <th>3</th>\n",
       "      <td>4</td>\n",
       "      <td>DJ Hussey</td>\n",
       "      <td>2</td>\n",
       "      <td>2.0</td>\n",
       "      <td>5</td>\n",
       "      <td>1977-07-15</td>\n",
       "      <td>1977</td>\n",
       "    </tr>\n",
       "    <tr>\n",
       "      <th>4</th>\n",
       "      <td>5</td>\n",
       "      <td>Mohammad Hafeez</td>\n",
       "      <td>2</td>\n",
       "      <td>2.0</td>\n",
       "      <td>6</td>\n",
       "      <td>1980-10-17</td>\n",
       "      <td>1980</td>\n",
       "    </tr>\n",
       "  </tbody>\n",
       "</table>\n",
       "</div>"
      ],
      "text/plain": [
       "   Player_Id      Player_Name  Batting_hand  Bowling_skill  Country_Name  \\\n",
       "0          1       SC Ganguly             1            1.0             1   \n",
       "1          2      BB McCullum             2            1.0             4   \n",
       "2          3       RT Ponting             2            1.0             5   \n",
       "3          4        DJ Hussey             2            2.0             5   \n",
       "4          5  Mohammad Hafeez             2            2.0             6   \n",
       "\n",
       "   Born_Year  Year  \n",
       "0 1972-07-08  1972  \n",
       "1 1981-09-27  1981  \n",
       "2 1974-12-19  1974  \n",
       "3 1977-07-15  1977  \n",
       "4 1980-10-17  1980  "
      ]
     },
     "execution_count": 43,
     "metadata": {},
     "output_type": "execute_result"
    }
   ],
   "source": [
    "Player.head()"
   ]
  },
  {
   "cell_type": "code",
   "execution_count": 44,
   "metadata": {
    "collapsed": false
   },
   "outputs": [],
   "source": [
    "# find out the Player born after 1990, YOung player\n",
    "Player_1990= Player[Player[\"Year\"] > 1990]"
   ]
  },
  {
   "cell_type": "code",
   "execution_count": 45,
   "metadata": {
    "collapsed": false
   },
   "outputs": [
    {
     "data": {
      "text/plain": [
       "(59, 7)"
      ]
     },
     "execution_count": 45,
     "metadata": {},
     "output_type": "execute_result"
    }
   ],
   "source": [
    "Player_1990.shape"
   ]
  },
  {
   "cell_type": "markdown",
   "metadata": {},
   "source": [
    "# Total we have 59 Young players"
   ]
  },
  {
   "cell_type": "code",
   "execution_count": 46,
   "metadata": {
    "collapsed": false
   },
   "outputs": [],
   "source": [
    "Old_player = Player[Player[\"Year\"] < 1980]"
   ]
  },
  {
   "cell_type": "code",
   "execution_count": 47,
   "metadata": {
    "collapsed": false
   },
   "outputs": [
    {
     "data": {
      "text/plain": [
       "(90, 7)"
      ]
     },
     "execution_count": 47,
     "metadata": {},
     "output_type": "execute_result"
    }
   ],
   "source": [
    "Old_player.shape"
   ]
  },
  {
   "cell_type": "code",
   "execution_count": 48,
   "metadata": {
    "collapsed": true
   },
   "outputs": [],
   "source": [
    "# 90 Players, so we have very much experienced players in IPL"
   ]
  },
  {
   "cell_type": "code",
   "execution_count": 49,
   "metadata": {
    "collapsed": false
   },
   "outputs": [],
   "source": [
    "old_player_1975 = Player[Player[\"Year\"] < 1975]"
   ]
  },
  {
   "cell_type": "code",
   "execution_count": 50,
   "metadata": {
    "collapsed": false
   },
   "outputs": [
    {
     "data": {
      "text/plain": [
       "(29, 7)"
      ]
     },
     "execution_count": 50,
     "metadata": {},
     "output_type": "execute_result"
    }
   ],
   "source": [
    "old_player_1975.shape"
   ]
  }
 ],
 "metadata": {
  "anaconda-cloud": {},
  "kernelspec": {
   "display_name": "Python [Root]",
   "language": "python",
   "name": "Python [Root]"
  },
  "language_info": {
   "codemirror_mode": {
    "name": "ipython",
    "version": 3
   },
   "file_extension": ".py",
   "mimetype": "text/x-python",
   "name": "python",
   "nbconvert_exporter": "python",
   "pygments_lexer": "ipython3",
   "version": "3.5.3"
  }
 },
 "nbformat": 4,
 "nbformat_minor": 0
}
